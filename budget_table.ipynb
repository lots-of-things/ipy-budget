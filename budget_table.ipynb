{
 "cells": [
  {
   "cell_type": "markdown",
   "metadata": {},
   "source": [
    "# Notebook to load and filter gsheets budget data\n",
    "\n",
    "this notebook uses [ipy-budget](https://github.com/lots-of-things/ipy-budget) and [qgrid](https://github.com/quantopian/qgrid) to display basic tables of budget data from gsheets for filtering and sorting"
   ]
  },
  {
   "cell_type": "code",
   "execution_count": 1,
   "metadata": {},
   "outputs": [],
   "source": [
    "import ipy_budget_api as ipybudget\n",
    "import qgrid"
   ]
  },
  {
   "cell_type": "code",
   "execution_count": 2,
   "metadata": {},
   "outputs": [],
   "source": [
    "budget_data = ipybudget.get_budget_data('1XiSlpguUG_YGU9TQ0b8dJheeCMYNR6xNAg_cluXsrGk')"
   ]
  },
  {
   "cell_type": "markdown",
   "metadata": {},
   "source": [
    "### Display full budget data"
   ]
  },
  {
   "cell_type": "code",
   "execution_count": 3,
   "metadata": {},
   "outputs": [
    {
     "data": {
      "application/vnd.jupyter.widget-view+json": {
       "model_id": "f9746f9bd1c0424a858fa7f79631efa6",
       "version_major": 2,
       "version_minor": 0
      },
      "text/plain": [
       "QgridWidget(grid_options={'fullWidthRows': True, 'syncColumnCellResize': True, 'forceFitColumns': True, 'defau…"
      ]
     },
     "metadata": {},
     "output_type": "display_data"
    }
   ],
   "source": [
    "qgrid.show_grid(budget_data[['category','amount','notes','date','person']],show_toolbar=True)"
   ]
  },
  {
   "cell_type": "markdown",
   "metadata": {},
   "source": [
    "### Find outliers in each category\n",
    "if the notes were real, then this could be helpful in finding odd spending or mistakes"
   ]
  },
  {
   "cell_type": "code",
   "execution_count": 4,
   "metadata": {},
   "outputs": [
    {
     "data": {
      "application/vnd.jupyter.widget-view+json": {
       "model_id": "0de1ed6b759e4afd903eedf32bfea739",
       "version_major": 2,
       "version_minor": 0
      },
      "text/plain": [
       "QgridWidget(grid_options={'fullWidthRows': True, 'syncColumnCellResize': True, 'forceFitColumns': True, 'defau…"
      ]
     },
     "metadata": {},
     "output_type": "display_data"
    }
   ],
   "source": [
    "tst_mean=budget_data.groupby('category')['amount'].mean().reset_index()\n",
    "tst_mean.columns=['category','mean']\n",
    "tst_std=budget_data.groupby('category')['amount'].std().reset_index()\n",
    "tst_std.columns=['category','std']\n",
    "tst = budget_data.merge(tst_mean,on='category').merge(tst_std,on='category')\n",
    "tst['outlier']=(tst['amount']-tst['mean']).abs()>tst['std']*2\n",
    "qgrid.show_grid(tst.loc[tst['outlier'],['category','amount','date','notes','person']],show_toolbar=True)"
   ]
  },
  {
   "cell_type": "code",
   "execution_count": null,
   "metadata": {},
   "outputs": [],
   "source": []
  }
 ],
 "metadata": {
  "kernelspec": {
   "display_name": "Python 3",
   "language": "python",
   "name": "python3"
  },
  "language_info": {
   "codemirror_mode": {
    "name": "ipython",
    "version": 3
   },
   "file_extension": ".py",
   "mimetype": "text/x-python",
   "name": "python",
   "nbconvert_exporter": "python",
   "pygments_lexer": "ipython3",
   "version": "3.6.4"
  }
 },
 "nbformat": 4,
 "nbformat_minor": 2
}
